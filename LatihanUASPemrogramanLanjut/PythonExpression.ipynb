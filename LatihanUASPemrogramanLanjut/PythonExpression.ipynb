{
 "cells": [
  {
   "cell_type": "markdown",
   "metadata": {},
   "source": [
    "\n",
    "Python Expression \n",
    "Tuliskan hasil dari ekspresi berikut: \n",
    "a. 15 mod 5 \n",
    "b. 12 +3*5==75 \n",
    "c. “PML”+”15523” \n",
    "d. “100”+234 \n",
    "e. ((11%3)+2) != 8/2 \n"
   ]
  },
  {
   "cell_type": "code",
   "execution_count": null,
   "metadata": {},
   "outputs": [],
   "source": [
    "\n",
    "#Jawaban Soal a\n",
    "result = 15 % 5 == 0\n",
    "print(result)"
   ]
  },
  {
   "cell_type": "code",
   "execution_count": null,
   "metadata": {},
   "outputs": [],
   "source": [
    "#Jawaban Soal b\n",
    "result = 12 + 3 * 5 == 75\n",
    "print(result)"
   ]
  },
  {
   "cell_type": "code",
   "execution_count": null,
   "metadata": {},
   "outputs": [],
   "source": [
    "#Jawaban Soal C\n",
    "\"PML\" + \"15523\""
   ]
  },
  {
   "cell_type": "code",
   "execution_count": null,
   "metadata": {},
   "outputs": [],
   "source": [
    "#Jawaban Soal D\n",
    "\"100\" + 234"
   ]
  },
  {
   "cell_type": "code",
   "execution_count": null,
   "metadata": {},
   "outputs": [],
   "source": [
    "#Jawaban Soal E\n",
    "((11 % 3) + 2) != 8 / 2\n",
    "\n",
    "\"\"\"\n",
    "Jadi, hasil dari ekspresi-ekspresi tersebut adalah:\n",
    "a. 0\n",
    "b. False\n",
    "c. \"PML15523\"\n",
    "d. Error (untuk menggabungkan menjadi \"100234\", perlu konversi ke string)\n",
    "e. False\n",
    "\"\"\""
   ]
  },
  {
   "cell_type": "markdown",
   "metadata": {},
   "source": [
    "Diberikan 3 buah variabel p = 11, q = 5, dan r = 4 tentukanlah ekspresi Boolean berikut: \n",
    "a. ((p-r) == (r+q) ) \n",
    "b.  (((p%3)+q)!=(r%2)) \n",
    "c. ((q-3)==(p%2+q)) \n",
    "d. ((r+q)!=((p*2)%2)) \n",
    "e.  ((((q%3)+p)>(r%2))) \n",
    "f. (((r+p))<=(q*5)) "
   ]
  },
  {
   "cell_type": "code",
   "execution_count": null,
   "metadata": {},
   "outputs": [],
   "source": [
    "#Jawaban Soal A\n",
    "(p - r) == (r + q)\n",
    "\"\"\"\n",
    "Evaluasi ekspresi tersebut adalah: (11-4) == (4+5) --> 7 == 9 --> False\n",
    "\"\"\""
   ]
  },
  {
   "cell_type": "code",
   "execution_count": null,
   "metadata": {},
   "outputs": [],
   "source": [
    "#Jawaban Soal B\n",
    "((p % 3) + q) != (r % 2)\n",
    "\"\"\"\n",
    "Evaluasi ekspresi tersebut adalah: ((11 % 3) + 5) != (4 % 2) --> (2 + 5) != 0 --> 7 != 0 --> True\n",
    "Hasilnya adalah True\n",
    "\"\"\""
   ]
  },
  {
   "cell_type": "code",
   "execution_count": null,
   "metadata": {},
   "outputs": [],
   "source": [
    "#Jawaban Soal C\n",
    "(q - 3) == (p % 2 + q)\n",
    "\"\"\"\n",
    "Evaluasi ekspresi tersebut adalah: (5 - 3) == (11 % 2 + 5) --> 2 == 1 + 5 --> 2 == 6 --> False\n",
    "Hasilnya adalah false\n",
    "\"\"\""
   ]
  },
  {
   "cell_type": "code",
   "execution_count": null,
   "metadata": {},
   "outputs": [],
   "source": [
    "#Jawaban Soal D\n",
    "(r + q) != ((p * 2) % 2)\n",
    "\"\"\"\n",
    "Evaluasi ekspresi tersebut adalah: (4 + 5) != ((11 * 2) % 2) --> 9 != (22 % 2) --> 9 != 0 --> True\n",
    "Hasilnya adalah True\n",
    "\"\"\""
   ]
  },
  {
   "cell_type": "code",
   "execution_count": null,
   "metadata": {},
   "outputs": [],
   "source": [
    "#Jawaban Soal E\n",
    "((q % 3) + p) > (r % 2)\n",
    "\"\"\"\n",
    "Evaluasi ekspresi tersebut adalah: ((5 % 3) + 11) > (4 % 2) --> (2 + 11) > 0 --> 13 > 0 --> True\n",
    "Hasilnya adalah True\n",
    "\"\"\""
   ]
  },
  {
   "cell_type": "code",
   "execution_count": null,
   "metadata": {},
   "outputs": [],
   "source": [
    "#Jawaban Soal F\n",
    "((r + p) <= (q * 5))\n",
    "\"\"\"\n",
    "Evaluasi ekspresi tersebut adalah: ((4 + 11) <= (5 * 5)) --> (15 <= 25) --> True\n",
    "Hasilnya adalah True\n",
    "\"\"\""
   ]
  },
  {
   "cell_type": "markdown",
   "metadata": {},
   "source": [
    "Jadi, hasil dari ekspresi-ekspresi Boolean tersebut adalah:\n",
    "\n",
    "a. False\n",
    "b. True\n",
    "c. False\n",
    "d. True\n",
    "e. True\n",
    "f. True"
   ]
  }
 ],
 "metadata": {
  "language_info": {
   "name": "python"
  }
 },
 "nbformat": 4,
 "nbformat_minor": 2
}
