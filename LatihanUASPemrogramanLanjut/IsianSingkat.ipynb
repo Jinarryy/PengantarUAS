{
 "cells": [
  {
   "cell_type": "markdown",
   "metadata": {},
   "source": [
    "Soal Isian Singkat"
   ]
  },
  {
   "cell_type": "code",
   "execution_count": 5,
   "metadata": {},
   "outputs": [
    {
     "data": {
      "text/plain": [
       "'HoneyBooBooBoo'"
      ]
     },
     "execution_count": 5,
     "metadata": {},
     "output_type": "execute_result"
    }
   ],
   "source": [
    "# Jawaban Nomor 1\n",
    "\"Honey\" + \"Boo\"*3\n",
    "\n",
    "#Outputnya adalah \"HoneyBooBooBoo\""
   ]
  },
  {
   "cell_type": "code",
   "execution_count": 6,
   "metadata": {},
   "outputs": [
    {
     "name": "stdout",
     "output_type": "stream",
     "text": [
      "{'Murica': 'Warshington', 'Germany': 'Berlin', 'France': 'Paris', 'Engalnd': 'London'}\n"
     ]
    }
   ],
   "source": [
    "#Jawaban Nomor 2\n",
    "capitals = {}\n",
    "capitals['Murica'] = 'Warshington'\n",
    "capitals['Germany'] = 'Bonn'\n",
    "capitals['France'] = 'Paris'\n",
    "capitals['Engalnd'] = 'London'\n",
    "capitals['Germany'] = 'Berlin'\n",
    "\n",
    "print(capitals)\n",
    "\n",
    "#Jawabannya adalah Berlin"
   ]
  },
  {
   "cell_type": "code",
   "execution_count": null,
   "metadata": {},
   "outputs": [],
   "source": [
    "#Jawaban Nomor 3\n",
    "a = \"23\"\n",
    "b = 9\n",
    "print(a+b)\n",
    "\n",
    "#Outputnya adalah Error, karena tidak bisa menambahkan string dengan integer"
   ]
  },
  {
   "cell_type": "code",
   "execution_count": null,
   "metadata": {},
   "outputs": [],
   "source": [
    "#Jawaban Nomor 4\n",
    "letters = [\"a\", \"b\", \"o\", \"c\", \"p\"]\n",
    "\n",
    "\"\"\"\n",
    "a. letters[1] hasilnya adalah: \"b\"\n",
    "b. letters[len(letters)-2] hasilnya adalah: \"c\"\n",
    "c. letters + [\"x\"] hasilnya adalah: [\"a\", \"b\", \"o\", \"c\", \"p\", \"x\"]\n",
    "d. letters hasilnya tetap: [\"a\", \"b\", \"o\", \"c\", \"p\"]\n",
    "\"\"\""
   ]
  },
  {
   "cell_type": "code",
   "execution_count": 12,
   "metadata": {},
   "outputs": [
    {
     "name": "stdout",
     "output_type": "stream",
     "text": [
      "h a n d s\n"
     ]
    }
   ],
   "source": [
    "#Jawaban Nomor 5\n",
    "' '.join('h a n d s'.split())\n",
    "\n",
    "print(' '.join('h a n d s'.split()))\n",
    "\n",
    "#Outputnya adalah \"h a n d s\""
   ]
  },
  {
   "cell_type": "code",
   "execution_count": null,
   "metadata": {},
   "outputs": [],
   "source": [
    "#Jawaban Nomor 6\n",
    "import json\n",
    "json_string = \"\"\"\n",
    "[\n",
    "    {1: 'one', 2: 'two', 3: 'three'},\n",
    "    {1: 'un', 2: 'deux', 3: 'trois'},\n",
    "    {1: 'eins', 2: 'zwei', 3: 'drei'}       \n",
    "]\n",
    "\"\"\"\n",
    "\n",
    "result_6 = json.loads(json_string)[1][2]\n",
    "result_6\n",
    "\n",
    "#Outputnya adalah \"deux\""
   ]
  },
  {
   "cell_type": "code",
   "execution_count": 18,
   "metadata": {},
   "outputs": [
    {
     "name": "stdout",
     "output_type": "stream",
     "text": [
      "0\n"
     ]
    }
   ],
   "source": [
    "#Jawaban Nomor 7\n",
    "def pembagi_indeks1(nums, divisor):\n",
    "    for i in range(len(nums)):\n",
    "        if nums[i] % divisor == 0:\n",
    "            return i\n",
    "    return -1\n",
    "\n",
    "vals_baru = [100, 66, 55, 64, 41, 35, 18, 64]\n",
    "print(pembagi_indeks1(vals_baru, 5))\n"
   ]
  },
  {
   "cell_type": "code",
   "execution_count": 19,
   "metadata": {},
   "outputs": [
    {
     "name": "stdout",
     "output_type": "stream",
     "text": [
      "4\n"
     ]
    }
   ],
   "source": [
    "#Jawaban Nomor 8\n",
    "def mystery(n, m):\n",
    "    p = 0\n",
    "    e = 0\n",
    "    while p < n:\n",
    "        p += 1\n",
    "        e += m\n",
    "    return p\n",
    "\n",
    "# Contoh penggunaan\n",
    "print(mystery(4, 3))  # Output: 4"
   ]
  }
 ],
 "metadata": {
  "kernelspec": {
   "display_name": "base",
   "language": "python",
   "name": "python3"
  },
  "language_info": {
   "codemirror_mode": {
    "name": "ipython",
    "version": 3
   },
   "file_extension": ".py",
   "mimetype": "text/x-python",
   "name": "python",
   "nbconvert_exporter": "python",
   "pygments_lexer": "ipython3",
   "version": "3.11.7"
  }
 },
 "nbformat": 4,
 "nbformat_minor": 2
}
